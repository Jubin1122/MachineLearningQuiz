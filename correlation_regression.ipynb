{
 "cells": [
  {
   "cell_type": "markdown",
   "source": [
    "Here are the test scores of 10 students in physics and history:\r\n",
    "\r\n",
    "Physics Scores  15  12  8   8   7   7   7   6   5   3\r\n",
    "History Scores  10  25  17  11  13  17  20  13  9   15\r\n",
    "\r\n",
    "Compute Karl Pearson’s coefficient of correlation between these scores.\r\n",
    "Compute the answer correct to three decimal places."
   ],
   "metadata": {}
  },
  {
   "cell_type": "code",
   "execution_count": 2,
   "source": [
    "def correlation(seq1, seq2):\r\n",
    "\r\n",
    "    m_score1 = sum(seq1)/len(seq1)\r\n",
    "    m_score2 = sum(seq2)/len(seq2)\r\n",
    "\r\n",
    "    num_term1 = [x - m_score1 for x in seq1]\r\n",
    "    num_term2 = [y - m_score2 for y in seq2]\r\n",
    "\r\n",
    "    numerator = sum([x*y for x,y in zip(num_term1, num_term2)])\r\n",
    "\r\n",
    "    dnm_term1 = sum([(x-m_score1)**2 for x in seq1])\r\n",
    "    dnm_term2 = sum([(y-m_score2)**2 for y in seq2])\r\n",
    "\r\n",
    "    denominator = (dnm_term1 ** 0.5) * (dnm_term2 ** 0.5)\r\n",
    "\r\n",
    "    pearson_coeff = numerator/denominator\r\n",
    "\r\n",
    "    return round(pearson_coeff,3)"
   ],
   "outputs": [],
   "metadata": {}
  },
  {
   "cell_type": "code",
   "execution_count": 3,
   "source": [
    "seq1 = [15,12,8,8,7,7,7,6,5,3]\r\n",
    "seq2 = [10,25,17,11,13,17,20,13,9,15]\r\n",
    "res  = correlation(seq1, seq2)\r\n",
    "print(res)"
   ],
   "outputs": [
    {
     "output_type": "stream",
     "name": "stdout",
     "text": [
      "0.145\n"
     ]
    }
   ],
   "metadata": {}
  }
 ],
 "metadata": {
  "orig_nbformat": 4,
  "language_info": {
   "name": "python",
   "version": "3.8.8",
   "mimetype": "text/x-python",
   "codemirror_mode": {
    "name": "ipython",
    "version": 3
   },
   "pygments_lexer": "ipython3",
   "nbconvert_exporter": "python",
   "file_extension": ".py"
  },
  "kernelspec": {
   "name": "python3",
   "display_name": "Python 3.8.8 64-bit ('base': conda)"
  },
  "interpreter": {
   "hash": "a01965aef490a562d96837df74be6b8ebe805647e8f4f8953db8d111e1a5a103"
  }
 },
 "nbformat": 4,
 "nbformat_minor": 2
}