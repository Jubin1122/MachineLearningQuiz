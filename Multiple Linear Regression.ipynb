{
 "cells": [
  {
   "cell_type": "code",
   "execution_count": 79,
   "source": [
    "import warnings\r\n",
    "warnings.filterwarnings('ignore')"
   ],
   "outputs": [],
   "metadata": {}
  },
  {
   "cell_type": "code",
   "execution_count": 80,
   "source": [
    "train = list()\r\n",
    "test = list()\r\n",
    "l1,l2,l3 = [], [], []\r\n",
    "t1,t2 = [], []\r\n",
    "count = 0\r\n",
    "with open('input.txt', 'r') as f:\r\n",
    "    data = f.readlines()\r\n",
    "    for i in range(0,len(data)):\r\n",
    "        out=data[i].replace('\\n', '')\r\n",
    "        out = out.split(' ')\r\n",
    "        train.append(out)\r\n",
    "\r\n",
    "#rint(train)\r\n",
    "\r\n",
    "for i in range(0, len(train)):\r\n",
    "    if i==0:\r\n",
    "        F, N = map(int,train[i][:2])\r\n",
    "    if i in range(1,N+1):\r\n",
    "        l1.append(train[i][0])\r\n",
    "        l2.append(train[i][1])\r\n",
    "        l3.append(train[i][2])\r\n",
    "    \r\n",
    "\r\n",
    "    if i>N+1:\r\n",
    "        t1.append(train[i][0])\r\n",
    "        t2.append(train[i][1])\r\n",
    "\r\n",
    "\r\n",
    "train  = [l1,l2,l3]\r\n",
    "test = [t1,t2]\r\n",
    "print(train, '\\n', test)\r\n",
    "        "
   ],
   "outputs": [
    {
     "output_type": "stream",
     "name": "stdout",
     "text": [
      "[['0.18', '1.0', '0.92', '0.07', '0.85', '0.99', '0.87'], ['0.89', '0.26', '0.11', '0.37', '0.16', '0.41', '0.47'], ['109.85', '155.72', '137.66', '76.17', '139.75', '162.6', '151.77']] \n",
      " [['0.49', '0.57', '0.56', '0.76'], ['0.18', '0.83', '0.64', '0.18']]\n"
     ]
    }
   ],
   "metadata": {}
  },
  {
   "cell_type": "code",
   "execution_count": 81,
   "source": [
    "import numpy as np\r\n",
    "from sklearn.linear_model import LinearRegression\r\n",
    "X_train = np.array(train[:-1])\r\n",
    "X_train = X_train.transpose()\r\n",
    "Y_train = np.array(train[-1])\r\n",
    "y_test = np.array(test).transpose()\r\n",
    "#model = LinearRegression().fit(X_train,Y_train)\r\n",
    "print(X_train.shape,'\\n', Y_train.shape)\r\n",
    "print(y_test.shape)"
   ],
   "outputs": [
    {
     "output_type": "stream",
     "name": "stdout",
     "text": [
      "(7, 2) \n",
      " (7,)\n",
      "(4, 2)\n"
     ]
    }
   ],
   "metadata": {}
  },
  {
   "cell_type": "code",
   "execution_count": 82,
   "source": [
    "model = LinearRegression().fit(X_train, Y_train)"
   ],
   "outputs": [],
   "metadata": {}
  },
  {
   "cell_type": "code",
   "execution_count": 105,
   "source": [
    "y_prediction =  model.predict(y_test)\r\n",
    "y_prediction = y_prediction.tolist()\r\n",
    "x = '\\n'.join(map(str,y_prediction))\r\n",
    "print(x)"
   ],
   "outputs": [
    {
     "output_type": "stream",
     "name": "stdout",
     "text": [
      "105.21455835106944\n",
      "142.67095130729922\n",
      "132.93605469124694\n",
      "129.70175404502453\n"
     ]
    }
   ],
   "metadata": {}
  },
  {
   "cell_type": "code",
   "execution_count": 86,
   "source": [
    "r_sq = model.score(X_train, Y_train)\r\n",
    "print('coefficient of determination:', r_sq)\r\n",
    "\r\n",
    "print('intercept:', model.intercept_)\r\n",
    "\r\n",
    "print('slope:', model.coef_)"
   ],
   "outputs": [
    {
     "output_type": "stream",
     "name": "stdout",
     "text": [
      "coefficient of determination: 0.9958851884794928\n",
      "intercept: 52.41149904506085\n",
      "slope: [90.69331739 46.46296549]\n"
     ]
    }
   ],
   "metadata": {}
  },
  {
   "cell_type": "code",
   "execution_count": 2,
   "source": [
    "x = [15,12,8,8,7,7,7,6,5,3]\r\n",
    "x.as_matrix()"
   ],
   "outputs": [
    {
     "output_type": "error",
     "ename": "AttributeError",
     "evalue": "'list' object has no attribute 'as_matrix'",
     "traceback": [
      "\u001b[1;31m---------------------------------------------------------------------------\u001b[0m",
      "\u001b[1;31mAttributeError\u001b[0m                            Traceback (most recent call last)",
      "\u001b[1;32m<ipython-input-2-6c875d56513a>\u001b[0m in \u001b[0;36m<module>\u001b[1;34m\u001b[0m\n\u001b[0;32m      1\u001b[0m \u001b[0mx\u001b[0m \u001b[1;33m=\u001b[0m \u001b[1;33m[\u001b[0m\u001b[1;36m15\u001b[0m\u001b[1;33m,\u001b[0m\u001b[1;36m12\u001b[0m\u001b[1;33m,\u001b[0m\u001b[1;36m8\u001b[0m\u001b[1;33m,\u001b[0m\u001b[1;36m8\u001b[0m\u001b[1;33m,\u001b[0m\u001b[1;36m7\u001b[0m\u001b[1;33m,\u001b[0m\u001b[1;36m7\u001b[0m\u001b[1;33m,\u001b[0m\u001b[1;36m7\u001b[0m\u001b[1;33m,\u001b[0m\u001b[1;36m6\u001b[0m\u001b[1;33m,\u001b[0m\u001b[1;36m5\u001b[0m\u001b[1;33m,\u001b[0m\u001b[1;36m3\u001b[0m\u001b[1;33m]\u001b[0m\u001b[1;33m\u001b[0m\u001b[1;33m\u001b[0m\u001b[0m\n\u001b[1;32m----> 2\u001b[1;33m \u001b[0mx\u001b[0m\u001b[1;33m.\u001b[0m\u001b[0mas_matrix\u001b[0m\u001b[1;33m(\u001b[0m\u001b[1;33m)\u001b[0m\u001b[1;33m\u001b[0m\u001b[1;33m\u001b[0m\u001b[0m\n\u001b[0m",
      "\u001b[1;31mAttributeError\u001b[0m: 'list' object has no attribute 'as_matrix'"
     ]
    }
   ],
   "metadata": {}
  },
  {
   "cell_type": "code",
   "execution_count": null,
   "source": [],
   "outputs": [],
   "metadata": {}
  }
 ],
 "metadata": {
  "orig_nbformat": 4,
  "language_info": {
   "name": "python",
   "version": "3.8.8",
   "mimetype": "text/x-python",
   "codemirror_mode": {
    "name": "ipython",
    "version": 3
   },
   "pygments_lexer": "ipython3",
   "nbconvert_exporter": "python",
   "file_extension": ".py"
  },
  "kernelspec": {
   "name": "python3",
   "display_name": "Python 3.8.8 64-bit ('base': conda)"
  },
  "interpreter": {
   "hash": "a01965aef490a562d96837df74be6b8ebe805647e8f4f8953db8d111e1a5a103"
  }
 },
 "nbformat": 4,
 "nbformat_minor": 2
}